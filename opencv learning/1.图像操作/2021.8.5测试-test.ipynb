{
 "cells": [
  {
   "cell_type": "code",
   "execution_count": 8,
   "id": "b03b645b",
   "metadata": {},
   "outputs": [],
   "source": [
    "import cv2\n",
    "import numpy as np"
   ]
  },
  {
   "cell_type": "code",
   "execution_count": 9,
   "id": "9c5a2c26",
   "metadata": {},
   "outputs": [],
   "source": [
    "# 图片展示\n",
    "def show(img):\n",
    "    cv2.imshow('1', img)\n",
    "    # 0：任意键退出\n",
    "    cv2.waitKey(0)\n",
    "    cv2.destroyAllWindows()"
   ]
  },
  {
   "cell_type": "markdown",
   "id": "3c9d9cb7",
   "metadata": {},
   "source": [
    "## 1. 彩色图片读取，灰度图片读取，图片保存"
   ]
  },
  {
   "cell_type": "code",
   "execution_count": 10,
   "id": "528989f1",
   "metadata": {},
   "outputs": [],
   "source": [
    "img = cv2.imread('data\\cat.jpg')\n",
    "img1 = cv2.imread('data\\cat.jpg',cv2.IMREAD_GRAYSCALE)\n",
    "show(img)\n",
    "show(img1)"
   ]
  },
  {
   "cell_type": "markdown",
   "id": "24d4d22b",
   "metadata": {},
   "source": [
    "## 2. 视频读取与展示"
   ]
  },
  {
   "cell_type": "code",
   "execution_count": 20,
   "id": "689f798e",
   "metadata": {},
   "outputs": [],
   "source": [
    "vc = cv2.VideoCapture('data/test.mp4')\n",
    "while True:\n",
    "    ret, frame = vc.read()\n",
    "    if frame is None:\n",
    "        break\n",
    "    if ret == True:\n",
    "        cv2.imshow('result', frame)\n",
    "        if cv2.waitKey(10) & 0xFF == 27:\n",
    "            break\n",
    "vc.release()\n",
    "cv2.destroyAllWindows()"
   ]
  },
  {
   "cell_type": "markdown",
   "id": "a4c15f0a",
   "metadata": {},
   "source": [
    "## 3. 颜色通道提取与合并"
   ]
  },
  {
   "cell_type": "code",
   "execution_count": 28,
   "id": "ab118762",
   "metadata": {},
   "outputs": [],
   "source": [
    "b,g,r = cv2.split(img)\n",
    "img1 = cv2.merge((r,b,g))\n",
    "show(img1)"
   ]
  },
  {
   "cell_type": "markdown",
   "id": "e168cf79",
   "metadata": {},
   "source": [
    "## 4. 边界填充，五种方法"
   ]
  },
  {
   "cell_type": "code",
   "execution_count": 29,
   "id": "5a50e58b",
   "metadata": {},
   "outputs": [],
   "source": [
    "img1 = cv2.copyMakeBorder(img,50,50,50,50,cv2.BORDER_REPLICATE)\n",
    "show(img1)"
   ]
  },
  {
   "cell_type": "markdown",
   "id": "cc1d8285",
   "metadata": {},
   "source": [
    "## 5. 更改图像尺寸并融合"
   ]
  },
  {
   "cell_type": "code",
   "execution_count": 39,
   "id": "ff74bcfe",
   "metadata": {},
   "outputs": [
    {
     "ename": "SystemError",
     "evalue": "new style getargs format but argument is not a tuple",
     "output_type": "error",
     "traceback": [
      "\u001B[1;31m---------------------------------------------------------------------------\u001B[0m",
      "\u001B[1;31mSystemError\u001B[0m                               Traceback (most recent call last)",
      "\u001B[1;32m<ipython-input-39-516180835cfe>\u001B[0m in \u001B[0;36m<module>\u001B[1;34m()\u001B[0m\n\u001B[0;32m      2\u001B[0m \u001B[0mimg_dog\u001B[0m \u001B[1;33m=\u001B[0m \u001B[0mcv2\u001B[0m\u001B[1;33m.\u001B[0m\u001B[0mimread\u001B[0m\u001B[1;33m(\u001B[0m\u001B[1;34m'data/dog.jpg'\u001B[0m\u001B[1;33m)\u001B[0m\u001B[1;33m\u001B[0m\u001B[0m\n\u001B[0;32m      3\u001B[0m \u001B[1;33m\u001B[0m\u001B[0m\n\u001B[1;32m----> 4\u001B[1;33m \u001B[0mimg_dog_new\u001B[0m \u001B[1;33m=\u001B[0m \u001B[0mcv2\u001B[0m\u001B[1;33m.\u001B[0m\u001B[0mresize\u001B[0m\u001B[1;33m(\u001B[0m\u001B[0mimg_dog\u001B[0m\u001B[1;33m,\u001B[0m\u001B[0mimg_cat\u001B[0m\u001B[1;33m)\u001B[0m\u001B[1;33m\u001B[0m\u001B[0m\n\u001B[0m\u001B[0;32m      5\u001B[0m \u001B[0mimg_dog\u001B[0m\u001B[1;33m.\u001B[0m\u001B[0mshape\u001B[0m\u001B[1;33m\u001B[0m\u001B[0m\n",
      "\u001B[1;31mSystemError\u001B[0m: new style getargs format but argument is not a tuple"
     ]
    }
   ],
   "source": [
    "img_cat = cv2.imread('data/cat.jpg')\n",
    "img_dog = cv2.imread('data/dog.jpg')\n",
    "\n",
    "img_dog_new = cv2.resize(img_dog,img_cat)\n",
    "img_dog.shape"
   ]
  },
  {
   "cell_type": "markdown",
   "id": "33bdaeb9",
   "metadata": {},
   "source": [
    "## 6. 转换图像色彩，bgr到gray"
   ]
  },
  {
   "cell_type": "code",
   "execution_count": null,
   "id": "78de2547",
   "metadata": {},
   "outputs": [],
   "source": []
  },
  {
   "cell_type": "markdown",
   "id": "3858f1de",
   "metadata": {},
   "source": [
    "## 7. 图像阈值操作"
   ]
  },
  {
   "cell_type": "code",
   "execution_count": null,
   "id": "f6807621",
   "metadata": {},
   "outputs": [],
   "source": []
  },
  {
   "cell_type": "markdown",
   "id": "feb1a39f",
   "metadata": {},
   "source": [
    "## 8. 图像平滑处理\n",
    "均值、方框、高斯、中值"
   ]
  },
  {
   "cell_type": "code",
   "execution_count": null,
   "id": "a764a95b",
   "metadata": {},
   "outputs": [],
   "source": []
  },
  {
   "cell_type": "markdown",
   "id": "c5b57767",
   "metadata": {},
   "source": [
    "## 9. 腐蚀与膨胀"
   ]
  },
  {
   "cell_type": "code",
   "execution_count": null,
   "id": "08b0efcd",
   "metadata": {},
   "outputs": [],
   "source": []
  },
  {
   "cell_type": "markdown",
   "id": "28929518",
   "metadata": {},
   "source": [
    "## 10. 开运算与闭运算\n",
    "去毛刺，填缝"
   ]
  },
  {
   "cell_type": "code",
   "execution_count": null,
   "id": "0d796afe",
   "metadata": {},
   "outputs": [],
   "source": []
  },
  {
   "cell_type": "markdown",
   "id": "b679671e",
   "metadata": {},
   "source": [
    "## 11. 梯度运算\n",
    "描边"
   ]
  },
  {
   "cell_type": "code",
   "execution_count": null,
   "id": "cdd44e67",
   "metadata": {},
   "outputs": [],
   "source": []
  },
  {
   "cell_type": "markdown",
   "id": "43fbb086",
   "metadata": {},
   "source": [
    "## 12. 礼帽与黑帽\n",
    "只留毛刺，只留缝隙"
   ]
  },
  {
   "cell_type": "code",
   "execution_count": null,
   "id": "e8cd68af",
   "metadata": {},
   "outputs": [],
   "source": []
  },
  {
   "cell_type": "markdown",
   "id": "261e6201",
   "metadata": {},
   "source": [
    "## 13. 梯度计算\n",
    "sobel、scharr、laplacian"
   ]
  },
  {
   "cell_type": "code",
   "execution_count": null,
   "id": "a724178d",
   "metadata": {},
   "outputs": [],
   "source": []
  },
  {
   "cell_type": "markdown",
   "id": "82bafbf9",
   "metadata": {},
   "source": [
    "## 14. canny边缘检测"
   ]
  },
  {
   "cell_type": "code",
   "execution_count": null,
   "id": "aeca9136",
   "metadata": {},
   "outputs": [],
   "source": []
  }
 ],
 "metadata": {
  "kernelspec": {
   "display_name": "Python 3",
   "language": "python",
   "name": "python3"
  },
  "language_info": {
   "codemirror_mode": {
    "name": "ipython",
    "version": 3
   },
   "file_extension": ".py",
   "mimetype": "text/x-python",
   "name": "python",
   "nbconvert_exporter": "python",
   "pygments_lexer": "ipython3",
   "version": "3.6.4"
  }
 },
 "nbformat": 4,
 "nbformat_minor": 5
}